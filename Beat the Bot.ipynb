{
 "cells": [
  {
   "cell_type": "markdown",
   "metadata": {},
   "source": [
    "# BEAT THE BOT"
   ]
  },
  {
   "cell_type": "markdown",
   "metadata": {},
   "source": [
    "### ABSTRACT\n",
    "\n",
    "The aim of this assignment is to beat the H2OAutoML leaderboard. \n",
    "\n",
    "We use a regression or classification dataset to run on H2OAutoML for a minimum of 1000 secs and get a leaderboard. Here, a regression dataset is chosen and the residual deviance is obtained in the leaderboard of H2OAutoML.\n",
    "\n",
    "By doing Feature Engineering and Hyperparameter tuning we have to beat the bot and get a better result than the result on the leaderboard."
   ]
  },
  {
   "cell_type": "markdown",
   "metadata": {},
   "source": [
    "### DESCRIPTION\n",
    "\n",
    "Ask a home buyer to describe their dream house, and they probably won't begin with the height of the basement ceiling or the proximity to an east-west railroad. But this playground competition's dataset proves that much more influences price negotiations than the number of bedrooms or a white-picket fence.\n",
    "\n",
    "With 79 explanatory variables describing (almost) every aspect of residential homes in Ames, Iowa, this competition challenges you to predict the final price of each home."
   ]
  },
  {
   "cell_type": "markdown",
   "metadata": {},
   "source": [
    "### ACKNOWLEDGEMENT\n",
    "\n",
    "The Ames Housing dataset was compiled by Dean De Cock for use in data science education. It's an incredible alternative for data scientists looking for a modernized and expanded version of the often cited Boston Housing dataset. "
   ]
  },
  {
   "cell_type": "markdown",
   "metadata": {},
   "source": [
    "### DATA\n",
    "\n",
    "* SalePrice - the property's sale price in dollars. This is the target variable that you're trying to predict.\n",
    "\n",
    "* MSSubClass: The building class\n",
    "\n",
    "* MSZoning: The general zoning classification\n",
    "\n",
    "* LotFrontage: Linear feet of street connected to property\n",
    "\n",
    "* LotArea: Lot size in square feet\n",
    "\n",
    "* Street: Type of road access\n",
    "\n",
    "* Alley: Type of alley access\n",
    "\n",
    "* LotShape: General shape of property\n",
    "\n",
    "* LandContour: Flatness of the property\n",
    "\n",
    "* Utilities: Type of utilities available\n",
    "\n",
    "* LotConfig: Lot configuration\n",
    "\n",
    "* LandSlope: Slope of property\n",
    "\n",
    "* Neighborhood: Physical locations within Ames city limits\n",
    "\n",
    "* Condition1: Proximity to main road or railroad\n",
    "\n",
    "* Condition2: Proximity to main road or railroad (if a second is present)\n",
    "\n",
    "* BldgType: Type of dwelling\n",
    "\n",
    "* HouseStyle: Style of dwelling\n",
    "\n",
    "* OverallQual: Overall material and finish quality\n",
    "\n",
    "* OverallCond: Overall condition rating\n",
    "\n",
    "* YearBuilt: Original construction date\n",
    "\n",
    "* YearRemodAdd: Remodel date\n",
    "\n",
    "* RoofStyle: Type of roof\n",
    "\n",
    "* RoofMatl: Roof material\n",
    "\n",
    "* Exterior1st: Exterior covering on house\n",
    "\n",
    "* Exterior2nd: Exterior covering on house (if more than one material)\n",
    "\n",
    "* MasVnrType: Masonry veneer type\n",
    "\n",
    "* MasVnrArea: Masonry veneer area in square feet\n",
    "\n",
    "* ExterQual: Exterior material quality\n",
    "\n",
    "* ExterCond: Present condition of the material on the exterior\n",
    "\n",
    "* Foundation: Type of foundation\n",
    "\n",
    "* BsmtQual: Height of the basement\n",
    "\n",
    "* BsmtCond: General condition of the basement\n",
    "\n",
    "* BsmtExposure: Walkout or garden level basement walls\n",
    "\n",
    "* BsmtFinType1: Quality of basement finished area\n",
    "\n",
    "* BsmtFinSF1: Type 1 finished square feet\n",
    "\n",
    "* BsmtFinType2: Quality of second finished area (if present)\n",
    "\n",
    "* BsmtFinSF2: Type 2 finished square feet\n",
    "\n",
    "* BsmtUnfSF: Unfinished square feet of basement area\n",
    "\n",
    "* TotalBsmtSF: Total square feet of basement area\n",
    "\n",
    "* Heating: Type of heating\n",
    "\n",
    "* HeatingQC: Heating quality and condition\n",
    "\n",
    "* CentralAir: Central air conditioning\n",
    "\n",
    "* Electrical: Electrical system\n",
    "\n",
    "* 1stFlrSF: First Floor square feet\n",
    "\n",
    "* 2ndFlrSF: Second floor square feet\n",
    "\n",
    "* LowQualFinSF: Low quality finished square feet (all floors)\n",
    "\n",
    "* GrLivArea: Above grade (ground) living area square feet\n",
    "\n",
    "* BsmtFullBath: Basement full bathrooms\n",
    "\n",
    "* BsmtHalfBath: Basement half bathrooms\n",
    "\n",
    "* FullBath: Full bathrooms above grade\n",
    "\n",
    "* HalfBath: Half baths above grade\n",
    "\n",
    "* Bedroom: Number of bedrooms above basement level\n",
    "\n",
    "* Kitchen: Number of kitchens\n",
    "\n",
    "* KitchenQual: Kitchen quality\n",
    "\n",
    "* TotRmsAbvGrd: Total rooms above grade (does not include bathrooms)\n",
    "\n",
    "* Functional: Home functionality rating\n",
    "\n",
    "* Fireplaces: Number of fireplaces\n",
    "\n",
    "* FireplaceQu: Fireplace quality\n",
    "\n",
    "* GarageType: Garage location\n",
    "\n",
    "* GarageYrBlt: Year garage was built\n",
    "\n",
    "* GarageFinish: Interior finish of the garage\n",
    "\n",
    "* GarageCars: Size of garage in car capacity\n",
    "\n",
    "* GarageArea: Size of garage in square feet\n",
    "\n",
    "* GarageQual: Garage quality\n",
    "\n",
    "* GarageCond: Garage condition\n",
    "\n",
    "* PavedDrive: Paved driveway\n",
    "\n",
    "* WoodDeckSF: Wood deck area in square feet\n",
    "\n",
    "* OpenPorchSF: Open porch area in square feet\n",
    "\n",
    "* EnclosedPorch: Enclosed porch area in square feet\n",
    "\n",
    "* 3SsnPorch: Three season porch area in square feet\n",
    "\n",
    "* ScreenPorch: Screen porch area in square feet\n",
    "\n",
    "* PoolArea: Pool area in square feet\n",
    "\n",
    "* PoolQC: Pool quality\n",
    "\n",
    "* Fence: Fence quality\n",
    "\n",
    "* MiscFeature: Miscellaneous feature not covered in other categories\n",
    "\n",
    "* MiscVal: Value of miscellaneous feature\n",
    "\n",
    "* MoSold: Month Sold\n",
    "\n",
    "* YrSold: Year Sold\n",
    "\n",
    "* SaleType: Type of sale\n",
    "\n",
    "* SaleCondition: Condition of sale"
   ]
  },
  {
   "cell_type": "markdown",
   "metadata": {},
   "source": [
    "#### Importing packages"
   ]
  },
  {
   "cell_type": "code",
   "execution_count": 1,
   "metadata": {
    "scrolled": true
   },
   "outputs": [
    {
     "name": "stdout",
     "output_type": "stream",
     "text": [
      "Checking whether there is an H2O instance running at http://localhost:54321 ..... not found.\n",
      "Attempting to start a local H2O server...\n",
      "  Java Version: java version \"1.8.0_111\"; Java(TM) SE Runtime Environment (build 1.8.0_111-b14); Java HotSpot(TM) 64-Bit Server VM (build 25.111-b14, mixed mode)\n",
      "  Starting server from /anaconda3/lib/python3.7/site-packages/h2o/backend/bin/h2o.jar\n",
      "  Ice root: /var/folders/s0/wh1_vxw960b12sby4y3qlc940000gn/T/tmpj277wohv\n",
      "  JVM stdout: /var/folders/s0/wh1_vxw960b12sby4y3qlc940000gn/T/tmpj277wohv/h2o_apurvasalvi_started_from_python.out\n",
      "  JVM stderr: /var/folders/s0/wh1_vxw960b12sby4y3qlc940000gn/T/tmpj277wohv/h2o_apurvasalvi_started_from_python.err\n",
      "  Server is running at http://127.0.0.1:54321\n",
      "Connecting to H2O server at http://127.0.0.1:54321 ... successful.\n"
     ]
    },
    {
     "data": {
      "text/html": [
       "<div style=\"overflow:auto\"><table style=\"width:50%\"><tr><td>H2O cluster uptime:</td>\n",
       "<td>02 secs</td></tr>\n",
       "<tr><td>H2O cluster timezone:</td>\n",
       "<td>America/New_York</td></tr>\n",
       "<tr><td>H2O data parsing timezone:</td>\n",
       "<td>UTC</td></tr>\n",
       "<tr><td>H2O cluster version:</td>\n",
       "<td>3.24.0.1</td></tr>\n",
       "<tr><td>H2O cluster version age:</td>\n",
       "<td>17 days </td></tr>\n",
       "<tr><td>H2O cluster name:</td>\n",
       "<td>H2O_from_python_apurvasalvi_o4xwa3</td></tr>\n",
       "<tr><td>H2O cluster total nodes:</td>\n",
       "<td>1</td></tr>\n",
       "<tr><td>H2O cluster free memory:</td>\n",
       "<td>3.556 Gb</td></tr>\n",
       "<tr><td>H2O cluster total cores:</td>\n",
       "<td>4</td></tr>\n",
       "<tr><td>H2O cluster allowed cores:</td>\n",
       "<td>4</td></tr>\n",
       "<tr><td>H2O cluster status:</td>\n",
       "<td>accepting new members, healthy</td></tr>\n",
       "<tr><td>H2O connection url:</td>\n",
       "<td>http://127.0.0.1:54321</td></tr>\n",
       "<tr><td>H2O connection proxy:</td>\n",
       "<td>None</td></tr>\n",
       "<tr><td>H2O internal security:</td>\n",
       "<td>False</td></tr>\n",
       "<tr><td>H2O API Extensions:</td>\n",
       "<td>Amazon S3, XGBoost, Algos, AutoML, Core V3, Core V4</td></tr>\n",
       "<tr><td>Python version:</td>\n",
       "<td>3.7.1 final</td></tr></table></div>"
      ],
      "text/plain": [
       "--------------------------  ---------------------------------------------------\n",
       "H2O cluster uptime:         02 secs\n",
       "H2O cluster timezone:       America/New_York\n",
       "H2O data parsing timezone:  UTC\n",
       "H2O cluster version:        3.24.0.1\n",
       "H2O cluster version age:    17 days\n",
       "H2O cluster name:           H2O_from_python_apurvasalvi_o4xwa3\n",
       "H2O cluster total nodes:    1\n",
       "H2O cluster free memory:    3.556 Gb\n",
       "H2O cluster total cores:    4\n",
       "H2O cluster allowed cores:  4\n",
       "H2O cluster status:         accepting new members, healthy\n",
       "H2O connection url:         http://127.0.0.1:54321\n",
       "H2O connection proxy:\n",
       "H2O internal security:      False\n",
       "H2O API Extensions:         Amazon S3, XGBoost, Algos, AutoML, Core V3, Core V4\n",
       "Python version:             3.7.1 final\n",
       "--------------------------  ---------------------------------------------------"
      ]
     },
     "metadata": {},
     "output_type": "display_data"
    }
   ],
   "source": [
    "import pandas as pd\n",
    "import matplotlib.pyplot as plt\n",
    "import seaborn as sns\n",
    "import numpy as np\n",
    "from scipy.stats import norm\n",
    "from sklearn.preprocessing import StandardScaler\n",
    "from scipy import stats\n",
    "import warnings\n",
    "warnings.filterwarnings('ignore')\n",
    "%matplotlib inline\n",
    "\n",
    "import h2o\n",
    "from h2o.automl import H2OAutoML\n",
    "import random, os, sys\n",
    "from datetime import datetime\n",
    "import pandas as pd\n",
    "import logging\n",
    "import csv\n",
    "import optparse\n",
    "import time\n",
    "import json\n",
    "from distutils.util import strtobool\n",
    "import psutil\n",
    "\n",
    "# launch your H2O cluster. H20 runs locally, unless you are connected to additional servers,\n",
    "# and uses all CPUs, by default, to run its algos in parallel.\n",
    "h2o.init()"
   ]
  },
  {
   "cell_type": "code",
   "execution_count": 2,
   "metadata": {},
   "outputs": [],
   "source": [
    "df_train = pd.read_csv(\"train.csv\")\n",
    "df_test = pd.read_csv(\"test.csv\")"
   ]
  },
  {
   "cell_type": "code",
   "execution_count": 3,
   "metadata": {},
   "outputs": [
    {
     "name": "stdout",
     "output_type": "stream",
     "text": [
      "Parse progress: |█████████████████████████████████████████████████████████| 100%\n",
      "Parse progress: |█████████████████████████████████████████████████████████| 100%\n"
     ]
    }
   ],
   "source": [
    "training = h2o.import_file(\"train.csv\")\n",
    "testing = h2o.import_file(\"test.csv\")"
   ]
  },
  {
   "cell_type": "code",
   "execution_count": 4,
   "metadata": {},
   "outputs": [],
   "source": [
    "target='SalePrice' \n",
    "data_file='training'\n",
    "run_id='20190904' # Just some arbitrary ID\n",
    "server_path='./Users/apurvasalvi/Desktop/Spring\\ 2019/INFO\\ 6105/Assignment\\ 4/.'\n",
    "classification=True\n",
    "scale=False\n",
    "max_models=None\n",
    "balance_y=False # balance_classes=balance_y\n",
    "balance_threshold=0.2\n",
    "project =\"beatthebot\"  # project_name = project"
   ]
  },
  {
   "cell_type": "code",
   "execution_count": 5,
   "metadata": {},
   "outputs": [
    {
     "name": "stdout",
     "output_type": "stream",
     "text": [
      "SalePrice\n",
      "['Id', 'MSSubClass', 'MSZoning', 'LotFrontage', 'LotArea', 'Street', 'Alley', 'LotShape', 'LandContour', 'Utilities', 'LotConfig', 'LandSlope', 'Neighborhood', 'Condition1', 'Condition2', 'BldgType', 'HouseStyle', 'OverallQual', 'OverallCond', 'YearBuilt', 'YearRemodAdd', 'RoofStyle', 'RoofMatl', 'Exterior1st', 'Exterior2nd', 'MasVnrType', 'MasVnrArea', 'ExterQual', 'ExterCond', 'Foundation', 'BsmtQual', 'BsmtCond', 'BsmtExposure', 'BsmtFinType1', 'BsmtFinSF1', 'BsmtFinType2', 'BsmtFinSF2', 'BsmtUnfSF', 'TotalBsmtSF', 'Heating', 'HeatingQC', 'CentralAir', 'Electrical', '1stFlrSF', '2ndFlrSF', 'LowQualFinSF', 'GrLivArea', 'BsmtFullBath', 'BsmtHalfBath', 'FullBath', 'HalfBath', 'BedroomAbvGr', 'KitchenAbvGr', 'KitchenQual', 'TotRmsAbvGrd', 'Functional', 'Fireplaces', 'FireplaceQu', 'GarageType', 'GarageYrBlt', 'GarageFinish', 'GarageCars', 'GarageArea', 'GarageQual', 'GarageCond', 'PavedDrive', 'WoodDeckSF', 'OpenPorchSF', 'EnclosedPorch', '3SsnPorch', 'ScreenPorch', 'PoolArea', 'PoolQC', 'Fence', 'MiscFeature', 'MiscVal', 'MoSold', 'YrSold', 'SaleType', 'SaleCondition']\n"
     ]
    }
   ],
   "source": [
    "y = target\n",
    "X = [name for name in training.columns if name != y]\n",
    "print(y) \n",
    "print(X)"
   ]
  },
  {
   "cell_type": "code",
   "execution_count": 6,
   "metadata": {},
   "outputs": [
    {
     "data": {
      "text/plain": [
       "'./Users/apurvasalvi/Desktop/Spring\\\\ 2019/INFO\\\\ 6105/Assignment\\\\ 4/./training'"
      ]
     },
     "execution_count": 6,
     "metadata": {},
     "output_type": "execute_result"
    }
   ],
   "source": [
    "import os\n",
    "\n",
    "data_path=os.path.join(server_path,data_file)\n",
    "data_path"
   ]
  },
  {
   "cell_type": "markdown",
   "metadata": {},
   "source": [
    "##### Using H2OAutoML to get a leaderboard for the best models along with the metric values"
   ]
  },
  {
   "cell_type": "code",
   "execution_count": 7,
   "metadata": {},
   "outputs": [
    {
     "name": "stdout",
     "output_type": "stream",
     "text": [
      "AutoML progress: |████████████████████████████████████████████████████████| 100%\n"
     ]
    }
   ],
   "source": [
    "aml_1000 = H2OAutoML(max_runtime_secs=1000,project_name = project) # init automl, run for 300 seconds\n",
    "aml_1000.train(x=X,  \n",
    "           y=y,\n",
    "           training_frame=training)"
   ]
  },
  {
   "cell_type": "code",
   "execution_count": 8,
   "metadata": {},
   "outputs": [],
   "source": [
    "leaderboard = aml_1000.leaderboard"
   ]
  },
  {
   "cell_type": "code",
   "execution_count": 83,
   "metadata": {},
   "outputs": [
    {
     "data": {
      "text/html": [
       "<table>\n",
       "<thead>\n",
       "<tr><th>model_id                                  </th><th style=\"text-align: right;\">  mean_residual_deviance</th><th style=\"text-align: right;\">   rmse</th><th style=\"text-align: right;\">        mse</th><th style=\"text-align: right;\">    mae</th><th style=\"text-align: right;\">   rmsle</th></tr>\n",
       "</thead>\n",
       "<tbody>\n",
       "<tr><td>GBM_grid_1_AutoML_20190418_214849_model_2 </td><td style=\"text-align: right;\">             7.48148e+08</td><td style=\"text-align: right;\">27352.3</td><td style=\"text-align: right;\">7.48148e+08</td><td style=\"text-align: right;\">15813.6</td><td style=\"text-align: right;\">0.1324  </td></tr>\n",
       "<tr><td>GBM_grid_1_AutoML_20190418_214849_model_13</td><td style=\"text-align: right;\">             7.48892e+08</td><td style=\"text-align: right;\">27365.9</td><td style=\"text-align: right;\">7.48892e+08</td><td style=\"text-align: right;\">15616.6</td><td style=\"text-align: right;\">0.129757</td></tr>\n",
       "<tr><td>GBM_grid_1_AutoML_20190418_214849_model_10</td><td style=\"text-align: right;\">             7.58907e+08</td><td style=\"text-align: right;\">27548.3</td><td style=\"text-align: right;\">7.58907e+08</td><td style=\"text-align: right;\">16071.7</td><td style=\"text-align: right;\">0.133612</td></tr>\n",
       "<tr><td>GBM_2_AutoML_20190418_214849              </td><td style=\"text-align: right;\">             7.61464e+08</td><td style=\"text-align: right;\">27594.6</td><td style=\"text-align: right;\">7.61464e+08</td><td style=\"text-align: right;\">15963.3</td><td style=\"text-align: right;\">0.133435</td></tr>\n",
       "<tr><td>GBM_grid_1_AutoML_20190418_214849_model_40</td><td style=\"text-align: right;\">             7.62019e+08</td><td style=\"text-align: right;\">27604.7</td><td style=\"text-align: right;\">7.62019e+08</td><td style=\"text-align: right;\">15769.3</td><td style=\"text-align: right;\">0.13154 </td></tr>\n",
       "<tr><td>GBM_grid_1_AutoML_20190418_214849_model_37</td><td style=\"text-align: right;\">             7.66942e+08</td><td style=\"text-align: right;\">27693.7</td><td style=\"text-align: right;\">7.66942e+08</td><td style=\"text-align: right;\">15888  </td><td style=\"text-align: right;\">0.132427</td></tr>\n",
       "<tr><td>GBM_grid_1_AutoML_20190418_214849_model_36</td><td style=\"text-align: right;\">             7.67583e+08</td><td style=\"text-align: right;\">27705.3</td><td style=\"text-align: right;\">7.67583e+08</td><td style=\"text-align: right;\">16019.7</td><td style=\"text-align: right;\">0.135069</td></tr>\n",
       "<tr><td>GBM_3_AutoML_20190418_214849              </td><td style=\"text-align: right;\">             7.69825e+08</td><td style=\"text-align: right;\">27745.7</td><td style=\"text-align: right;\">7.69825e+08</td><td style=\"text-align: right;\">16105.7</td><td style=\"text-align: right;\">0.132671</td></tr>\n",
       "<tr><td>GBM_1_AutoML_20190418_214849              </td><td style=\"text-align: right;\">             7.85961e+08</td><td style=\"text-align: right;\">28035  </td><td style=\"text-align: right;\">7.85961e+08</td><td style=\"text-align: right;\">16192.3</td><td style=\"text-align: right;\">0.134303</td></tr>\n",
       "<tr><td>GBM_grid_1_AutoML_20190418_214849_model_19</td><td style=\"text-align: right;\">             7.87875e+08</td><td style=\"text-align: right;\">28069.1</td><td style=\"text-align: right;\">7.87875e+08</td><td style=\"text-align: right;\">16156.7</td><td style=\"text-align: right;\">0.133807</td></tr>\n",
       "</tbody>\n",
       "</table>"
      ]
     },
     "metadata": {},
     "output_type": "display_data"
    },
    {
     "data": {
      "text/plain": []
     },
     "execution_count": 83,
     "metadata": {},
     "output_type": "execute_result"
    }
   ],
   "source": [
    "leaderboard"
   ]
  },
  {
   "cell_type": "markdown",
   "metadata": {},
   "source": [
    "Looking at the leaderboard we can tell that H2OAutoML gives GBM_grid_1_AutoML_20190415_174123_model_25 as the best model for a runtime of 1000secs."
   ]
  },
  {
   "cell_type": "code",
   "execution_count": 10,
   "metadata": {},
   "outputs": [],
   "source": [
    "best_model = h2o.get_model(aml_1000.leaderboard[0,'model_id'])"
   ]
  },
  {
   "cell_type": "code",
   "execution_count": 11,
   "metadata": {},
   "outputs": [
    {
     "data": {
      "text/plain": [
       "'gbm'"
      ]
     },
     "execution_count": 11,
     "metadata": {},
     "output_type": "execute_result"
    }
   ],
   "source": [
    "best_model.algo"
   ]
  },
  {
   "cell_type": "markdown",
   "metadata": {},
   "source": [
    "The parameters for this model are found along with their actual and default values."
   ]
  },
  {
   "cell_type": "code",
   "execution_count": 12,
   "metadata": {},
   "outputs": [
    {
     "data": {
      "text/plain": [
       "{'model_id': {'default': None,\n",
       "  'actual': {'__meta': {'schema_version': 3,\n",
       "    'schema_name': 'ModelKeyV3',\n",
       "    'schema_type': 'Key<Model>'},\n",
       "   'name': 'GBM_grid_1_AutoML_20190418_214849_model_2',\n",
       "   'type': 'Key<Model>',\n",
       "   'URL': '/3/Models/GBM_grid_1_AutoML_20190418_214849_model_2'}},\n",
       " 'training_frame': {'default': None,\n",
       "  'actual': {'__meta': {'schema_version': 3,\n",
       "    'schema_name': 'FrameKeyV3',\n",
       "    'schema_type': 'Key<Frame>'},\n",
       "   'name': 'automl_training_train.hex',\n",
       "   'type': 'Key<Frame>',\n",
       "   'URL': '/3/Frames/automl_training_train.hex'}},\n",
       " 'validation_frame': {'default': None, 'actual': None},\n",
       " 'nfolds': {'default': 0, 'actual': 5},\n",
       " 'keep_cross_validation_models': {'default': True, 'actual': False},\n",
       " 'keep_cross_validation_predictions': {'default': False, 'actual': True},\n",
       " 'keep_cross_validation_fold_assignment': {'default': False, 'actual': False},\n",
       " 'score_each_iteration': {'default': False, 'actual': False},\n",
       " 'score_tree_interval': {'default': 0, 'actual': 5},\n",
       " 'fold_assignment': {'default': 'AUTO', 'actual': 'Modulo'},\n",
       " 'fold_column': {'default': None, 'actual': None},\n",
       " 'response_column': {'default': None,\n",
       "  'actual': {'__meta': {'schema_version': 3,\n",
       "    'schema_name': 'ColSpecifierV3',\n",
       "    'schema_type': 'VecSpecifier'},\n",
       "   'column_name': 'SalePrice',\n",
       "   'is_member_of_frames': None}},\n",
       " 'ignored_columns': {'default': None, 'actual': []},\n",
       " 'ignore_const_cols': {'default': True, 'actual': True},\n",
       " 'offset_column': {'default': None, 'actual': None},\n",
       " 'weights_column': {'default': None, 'actual': None},\n",
       " 'balance_classes': {'default': False, 'actual': False},\n",
       " 'class_sampling_factors': {'default': None, 'actual': None},\n",
       " 'max_after_balance_size': {'default': 5.0, 'actual': 5.0},\n",
       " 'max_confusion_matrix_size': {'default': 20, 'actual': 20},\n",
       " 'max_hit_ratio_k': {'default': 0, 'actual': 0},\n",
       " 'ntrees': {'default': 50, 'actual': 101},\n",
       " 'max_depth': {'default': 5, 'actual': 4},\n",
       " 'min_rows': {'default': 10.0, 'actual': 30.0},\n",
       " 'nbins': {'default': 20, 'actual': 20},\n",
       " 'nbins_top_level': {'default': 1024, 'actual': 1024},\n",
       " 'nbins_cats': {'default': 1024, 'actual': 1024},\n",
       " 'r2_stopping': {'default': 1.7976931348623157e+308,\n",
       "  'actual': 1.7976931348623157e+308},\n",
       " 'stopping_rounds': {'default': 0, 'actual': 0},\n",
       " 'stopping_metric': {'default': 'AUTO', 'actual': 'deviance'},\n",
       " 'stopping_tolerance': {'default': 0.001, 'actual': 0.026171196129510688},\n",
       " 'max_runtime_secs': {'default': 0.0, 'actual': 0.0},\n",
       " 'seed': {'default': -1, 'actual': 1666014540829749553},\n",
       " 'build_tree_one_node': {'default': False, 'actual': False},\n",
       " 'learn_rate': {'default': 0.1, 'actual': 0.08},\n",
       " 'learn_rate_annealing': {'default': 1.0, 'actual': 1.0},\n",
       " 'distribution': {'default': 'AUTO', 'actual': 'gaussian'},\n",
       " 'quantile_alpha': {'default': 0.5, 'actual': 0.5},\n",
       " 'tweedie_power': {'default': 1.5, 'actual': 1.5},\n",
       " 'huber_alpha': {'default': 0.9, 'actual': 0.9},\n",
       " 'checkpoint': {'default': None, 'actual': None},\n",
       " 'sample_rate': {'default': 1.0, 'actual': 0.9},\n",
       " 'sample_rate_per_class': {'default': None, 'actual': None},\n",
       " 'col_sample_rate': {'default': 1.0, 'actual': 0.4},\n",
       " 'col_sample_rate_change_per_level': {'default': 1.0, 'actual': 1.0},\n",
       " 'col_sample_rate_per_tree': {'default': 1.0, 'actual': 0.4},\n",
       " 'min_split_improvement': {'default': 1e-05, 'actual': 0.0001},\n",
       " 'histogram_type': {'default': 'AUTO', 'actual': 'AUTO'},\n",
       " 'max_abs_leafnode_pred': {'default': 1.7976931348623157e+308,\n",
       "  'actual': 1.7976931348623157e+308},\n",
       " 'pred_noise_bandwidth': {'default': 0.0, 'actual': 0.0},\n",
       " 'categorical_encoding': {'default': 'AUTO', 'actual': 'AUTO'},\n",
       " 'calibrate_model': {'default': False, 'actual': False},\n",
       " 'calibration_frame': {'default': None, 'actual': None},\n",
       " 'custom_metric_func': {'default': None, 'actual': None},\n",
       " 'export_checkpoints_dir': {'default': None, 'actual': None},\n",
       " 'monotone_constraints': {'default': None, 'actual': None},\n",
       " 'check_constant_response': {'default': True, 'actual': True}}"
      ]
     },
     "execution_count": 12,
     "metadata": {},
     "output_type": "execute_result"
    }
   ],
   "source": [
    "best_model.params"
   ]
  },
  {
   "cell_type": "code",
   "execution_count": 13,
   "metadata": {},
   "outputs": [
    {
     "name": "stdout",
     "output_type": "stream",
     "text": [
      "H2O session _sid_b338 closed.\n"
     ]
    }
   ],
   "source": [
    "h2o.cluster().shutdown()"
   ]
  },
  {
   "cell_type": "markdown",
   "metadata": {},
   "source": [
    "### Performing Data Cleaning"
   ]
  },
  {
   "cell_type": "code",
   "execution_count": 14,
   "metadata": {},
   "outputs": [
    {
     "data": {
      "text/plain": [
       "(2919, 81)"
      ]
     },
     "execution_count": 14,
     "metadata": {},
     "output_type": "execute_result"
    }
   ],
   "source": [
    "combined_data = pd.concat([df_train, df_test], keys=['df_train', 'df_test'], sort=False)\n",
    "combined_data.shape"
   ]
  },
  {
   "cell_type": "code",
   "execution_count": 15,
   "metadata": {},
   "outputs": [
    {
     "data": {
      "text/html": [
       "<div>\n",
       "<style scoped>\n",
       "    .dataframe tbody tr th:only-of-type {\n",
       "        vertical-align: middle;\n",
       "    }\n",
       "\n",
       "    .dataframe tbody tr th {\n",
       "        vertical-align: top;\n",
       "    }\n",
       "\n",
       "    .dataframe thead th {\n",
       "        text-align: right;\n",
       "    }\n",
       "</style>\n",
       "<table border=\"1\" class=\"dataframe\">\n",
       "  <thead>\n",
       "    <tr style=\"text-align: right;\">\n",
       "      <th></th>\n",
       "      <th>Id</th>\n",
       "      <th>MSSubClass</th>\n",
       "      <th>LotFrontage</th>\n",
       "      <th>LotArea</th>\n",
       "      <th>OverallQual</th>\n",
       "      <th>OverallCond</th>\n",
       "      <th>YearBuilt</th>\n",
       "      <th>YearRemodAdd</th>\n",
       "      <th>MasVnrArea</th>\n",
       "      <th>BsmtFinSF1</th>\n",
       "      <th>...</th>\n",
       "      <th>WoodDeckSF</th>\n",
       "      <th>OpenPorchSF</th>\n",
       "      <th>EnclosedPorch</th>\n",
       "      <th>3SsnPorch</th>\n",
       "      <th>ScreenPorch</th>\n",
       "      <th>PoolArea</th>\n",
       "      <th>MiscVal</th>\n",
       "      <th>MoSold</th>\n",
       "      <th>YrSold</th>\n",
       "      <th>SalePrice</th>\n",
       "    </tr>\n",
       "  </thead>\n",
       "  <tbody>\n",
       "    <tr>\n",
       "      <th>count</th>\n",
       "      <td>2919.000000</td>\n",
       "      <td>2919.000000</td>\n",
       "      <td>2433.000000</td>\n",
       "      <td>2919.000000</td>\n",
       "      <td>2919.000000</td>\n",
       "      <td>2919.000000</td>\n",
       "      <td>2919.000000</td>\n",
       "      <td>2919.000000</td>\n",
       "      <td>2896.000000</td>\n",
       "      <td>2918.000000</td>\n",
       "      <td>...</td>\n",
       "      <td>2919.000000</td>\n",
       "      <td>2919.000000</td>\n",
       "      <td>2919.000000</td>\n",
       "      <td>2919.000000</td>\n",
       "      <td>2919.000000</td>\n",
       "      <td>2919.000000</td>\n",
       "      <td>2919.000000</td>\n",
       "      <td>2919.000000</td>\n",
       "      <td>2919.000000</td>\n",
       "      <td>1460.000000</td>\n",
       "    </tr>\n",
       "    <tr>\n",
       "      <th>mean</th>\n",
       "      <td>1460.000000</td>\n",
       "      <td>57.137718</td>\n",
       "      <td>69.305795</td>\n",
       "      <td>10168.114080</td>\n",
       "      <td>6.089072</td>\n",
       "      <td>5.564577</td>\n",
       "      <td>1971.312778</td>\n",
       "      <td>1984.264474</td>\n",
       "      <td>102.201312</td>\n",
       "      <td>441.423235</td>\n",
       "      <td>...</td>\n",
       "      <td>93.709832</td>\n",
       "      <td>47.486811</td>\n",
       "      <td>23.098321</td>\n",
       "      <td>2.602261</td>\n",
       "      <td>16.062350</td>\n",
       "      <td>2.251799</td>\n",
       "      <td>50.825968</td>\n",
       "      <td>6.213087</td>\n",
       "      <td>2007.792737</td>\n",
       "      <td>180921.195890</td>\n",
       "    </tr>\n",
       "    <tr>\n",
       "      <th>std</th>\n",
       "      <td>842.787043</td>\n",
       "      <td>42.517628</td>\n",
       "      <td>23.344905</td>\n",
       "      <td>7886.996359</td>\n",
       "      <td>1.409947</td>\n",
       "      <td>1.113131</td>\n",
       "      <td>30.291442</td>\n",
       "      <td>20.894344</td>\n",
       "      <td>179.334253</td>\n",
       "      <td>455.610826</td>\n",
       "      <td>...</td>\n",
       "      <td>126.526589</td>\n",
       "      <td>67.575493</td>\n",
       "      <td>64.244246</td>\n",
       "      <td>25.188169</td>\n",
       "      <td>56.184365</td>\n",
       "      <td>35.663946</td>\n",
       "      <td>567.402211</td>\n",
       "      <td>2.714762</td>\n",
       "      <td>1.314964</td>\n",
       "      <td>79442.502883</td>\n",
       "    </tr>\n",
       "    <tr>\n",
       "      <th>min</th>\n",
       "      <td>1.000000</td>\n",
       "      <td>20.000000</td>\n",
       "      <td>21.000000</td>\n",
       "      <td>1300.000000</td>\n",
       "      <td>1.000000</td>\n",
       "      <td>1.000000</td>\n",
       "      <td>1872.000000</td>\n",
       "      <td>1950.000000</td>\n",
       "      <td>0.000000</td>\n",
       "      <td>0.000000</td>\n",
       "      <td>...</td>\n",
       "      <td>0.000000</td>\n",
       "      <td>0.000000</td>\n",
       "      <td>0.000000</td>\n",
       "      <td>0.000000</td>\n",
       "      <td>0.000000</td>\n",
       "      <td>0.000000</td>\n",
       "      <td>0.000000</td>\n",
       "      <td>1.000000</td>\n",
       "      <td>2006.000000</td>\n",
       "      <td>34900.000000</td>\n",
       "    </tr>\n",
       "    <tr>\n",
       "      <th>25%</th>\n",
       "      <td>730.500000</td>\n",
       "      <td>20.000000</td>\n",
       "      <td>59.000000</td>\n",
       "      <td>7478.000000</td>\n",
       "      <td>5.000000</td>\n",
       "      <td>5.000000</td>\n",
       "      <td>1953.500000</td>\n",
       "      <td>1965.000000</td>\n",
       "      <td>0.000000</td>\n",
       "      <td>0.000000</td>\n",
       "      <td>...</td>\n",
       "      <td>0.000000</td>\n",
       "      <td>0.000000</td>\n",
       "      <td>0.000000</td>\n",
       "      <td>0.000000</td>\n",
       "      <td>0.000000</td>\n",
       "      <td>0.000000</td>\n",
       "      <td>0.000000</td>\n",
       "      <td>4.000000</td>\n",
       "      <td>2007.000000</td>\n",
       "      <td>129975.000000</td>\n",
       "    </tr>\n",
       "    <tr>\n",
       "      <th>50%</th>\n",
       "      <td>1460.000000</td>\n",
       "      <td>50.000000</td>\n",
       "      <td>68.000000</td>\n",
       "      <td>9453.000000</td>\n",
       "      <td>6.000000</td>\n",
       "      <td>5.000000</td>\n",
       "      <td>1973.000000</td>\n",
       "      <td>1993.000000</td>\n",
       "      <td>0.000000</td>\n",
       "      <td>368.500000</td>\n",
       "      <td>...</td>\n",
       "      <td>0.000000</td>\n",
       "      <td>26.000000</td>\n",
       "      <td>0.000000</td>\n",
       "      <td>0.000000</td>\n",
       "      <td>0.000000</td>\n",
       "      <td>0.000000</td>\n",
       "      <td>0.000000</td>\n",
       "      <td>6.000000</td>\n",
       "      <td>2008.000000</td>\n",
       "      <td>163000.000000</td>\n",
       "    </tr>\n",
       "    <tr>\n",
       "      <th>75%</th>\n",
       "      <td>2189.500000</td>\n",
       "      <td>70.000000</td>\n",
       "      <td>80.000000</td>\n",
       "      <td>11570.000000</td>\n",
       "      <td>7.000000</td>\n",
       "      <td>6.000000</td>\n",
       "      <td>2001.000000</td>\n",
       "      <td>2004.000000</td>\n",
       "      <td>164.000000</td>\n",
       "      <td>733.000000</td>\n",
       "      <td>...</td>\n",
       "      <td>168.000000</td>\n",
       "      <td>70.000000</td>\n",
       "      <td>0.000000</td>\n",
       "      <td>0.000000</td>\n",
       "      <td>0.000000</td>\n",
       "      <td>0.000000</td>\n",
       "      <td>0.000000</td>\n",
       "      <td>8.000000</td>\n",
       "      <td>2009.000000</td>\n",
       "      <td>214000.000000</td>\n",
       "    </tr>\n",
       "    <tr>\n",
       "      <th>max</th>\n",
       "      <td>2919.000000</td>\n",
       "      <td>190.000000</td>\n",
       "      <td>313.000000</td>\n",
       "      <td>215245.000000</td>\n",
       "      <td>10.000000</td>\n",
       "      <td>9.000000</td>\n",
       "      <td>2010.000000</td>\n",
       "      <td>2010.000000</td>\n",
       "      <td>1600.000000</td>\n",
       "      <td>5644.000000</td>\n",
       "      <td>...</td>\n",
       "      <td>1424.000000</td>\n",
       "      <td>742.000000</td>\n",
       "      <td>1012.000000</td>\n",
       "      <td>508.000000</td>\n",
       "      <td>576.000000</td>\n",
       "      <td>800.000000</td>\n",
       "      <td>17000.000000</td>\n",
       "      <td>12.000000</td>\n",
       "      <td>2010.000000</td>\n",
       "      <td>755000.000000</td>\n",
       "    </tr>\n",
       "  </tbody>\n",
       "</table>\n",
       "<p>8 rows × 38 columns</p>\n",
       "</div>"
      ],
      "text/plain": [
       "                Id   MSSubClass  LotFrontage        LotArea  OverallQual  \\\n",
       "count  2919.000000  2919.000000  2433.000000    2919.000000  2919.000000   \n",
       "mean   1460.000000    57.137718    69.305795   10168.114080     6.089072   \n",
       "std     842.787043    42.517628    23.344905    7886.996359     1.409947   \n",
       "min       1.000000    20.000000    21.000000    1300.000000     1.000000   \n",
       "25%     730.500000    20.000000    59.000000    7478.000000     5.000000   \n",
       "50%    1460.000000    50.000000    68.000000    9453.000000     6.000000   \n",
       "75%    2189.500000    70.000000    80.000000   11570.000000     7.000000   \n",
       "max    2919.000000   190.000000   313.000000  215245.000000    10.000000   \n",
       "\n",
       "       OverallCond    YearBuilt  YearRemodAdd   MasVnrArea   BsmtFinSF1  \\\n",
       "count  2919.000000  2919.000000   2919.000000  2896.000000  2918.000000   \n",
       "mean      5.564577  1971.312778   1984.264474   102.201312   441.423235   \n",
       "std       1.113131    30.291442     20.894344   179.334253   455.610826   \n",
       "min       1.000000  1872.000000   1950.000000     0.000000     0.000000   \n",
       "25%       5.000000  1953.500000   1965.000000     0.000000     0.000000   \n",
       "50%       5.000000  1973.000000   1993.000000     0.000000   368.500000   \n",
       "75%       6.000000  2001.000000   2004.000000   164.000000   733.000000   \n",
       "max       9.000000  2010.000000   2010.000000  1600.000000  5644.000000   \n",
       "\n",
       "           ...         WoodDeckSF  OpenPorchSF  EnclosedPorch    3SsnPorch  \\\n",
       "count      ...        2919.000000  2919.000000    2919.000000  2919.000000   \n",
       "mean       ...          93.709832    47.486811      23.098321     2.602261   \n",
       "std        ...         126.526589    67.575493      64.244246    25.188169   \n",
       "min        ...           0.000000     0.000000       0.000000     0.000000   \n",
       "25%        ...           0.000000     0.000000       0.000000     0.000000   \n",
       "50%        ...           0.000000    26.000000       0.000000     0.000000   \n",
       "75%        ...         168.000000    70.000000       0.000000     0.000000   \n",
       "max        ...        1424.000000   742.000000    1012.000000   508.000000   \n",
       "\n",
       "       ScreenPorch     PoolArea       MiscVal       MoSold       YrSold  \\\n",
       "count  2919.000000  2919.000000   2919.000000  2919.000000  2919.000000   \n",
       "mean     16.062350     2.251799     50.825968     6.213087  2007.792737   \n",
       "std      56.184365    35.663946    567.402211     2.714762     1.314964   \n",
       "min       0.000000     0.000000      0.000000     1.000000  2006.000000   \n",
       "25%       0.000000     0.000000      0.000000     4.000000  2007.000000   \n",
       "50%       0.000000     0.000000      0.000000     6.000000  2008.000000   \n",
       "75%       0.000000     0.000000      0.000000     8.000000  2009.000000   \n",
       "max     576.000000   800.000000  17000.000000    12.000000  2010.000000   \n",
       "\n",
       "           SalePrice  \n",
       "count    1460.000000  \n",
       "mean   180921.195890  \n",
       "std     79442.502883  \n",
       "min     34900.000000  \n",
       "25%    129975.000000  \n",
       "50%    163000.000000  \n",
       "75%    214000.000000  \n",
       "max    755000.000000  \n",
       "\n",
       "[8 rows x 38 columns]"
      ]
     },
     "execution_count": 15,
     "metadata": {},
     "output_type": "execute_result"
    }
   ],
   "source": [
    "combined_data.describe()"
   ]
  },
  {
   "cell_type": "code",
   "execution_count": 16,
   "metadata": {},
   "outputs": [],
   "source": [
    "combined_data.drop('Id', axis = 1, inplace=True)"
   ]
  },
  {
   "cell_type": "code",
   "execution_count": 17,
   "metadata": {},
   "outputs": [
    {
     "data": {
      "text/plain": [
       "(2919, 80)"
      ]
     },
     "execution_count": 17,
     "metadata": {},
     "output_type": "execute_result"
    }
   ],
   "source": [
    "combined_data.shape"
   ]
  },
  {
   "cell_type": "markdown",
   "metadata": {},
   "source": [
    "### Checking for missing values"
   ]
  },
  {
   "cell_type": "code",
   "execution_count": 18,
   "metadata": {},
   "outputs": [
    {
     "data": {
      "text/plain": [
       "PoolQC          0.996574\n",
       "MiscFeature     0.964029\n",
       "Alley           0.932169\n",
       "Fence           0.804385\n",
       "SalePrice       0.499829\n",
       "FireplaceQu     0.486468\n",
       "LotFrontage     0.166495\n",
       "GarageYrBlt     0.054471\n",
       "GarageFinish    0.054471\n",
       "GarageQual      0.054471\n",
       "GarageCond      0.054471\n",
       "GarageType      0.053786\n",
       "BsmtCond        0.028092\n",
       "BsmtExposure    0.028092\n",
       "BsmtQual        0.027749\n",
       "BsmtFinType2    0.027407\n",
       "BsmtFinType1    0.027064\n",
       "MasVnrType      0.008222\n",
       "MasVnrArea      0.007879\n",
       "MSZoning        0.001370\n",
       "BsmtFullBath    0.000685\n",
       "BsmtHalfBath    0.000685\n",
       "Functional      0.000685\n",
       "Utilities       0.000685\n",
       "BsmtFinSF2      0.000343\n",
       "BsmtUnfSF       0.000343\n",
       "BsmtFinSF1      0.000343\n",
       "TotalBsmtSF     0.000343\n",
       "SaleType        0.000343\n",
       "KitchenQual     0.000343\n",
       "Exterior2nd     0.000343\n",
       "Exterior1st     0.000343\n",
       "GarageCars      0.000343\n",
       "GarageArea      0.000343\n",
       "Electrical      0.000343\n",
       "dtype: float64"
      ]
     },
     "execution_count": 18,
     "metadata": {},
     "output_type": "execute_result"
    }
   ],
   "source": [
    "missing = combined_data.isnull().sum()/len(combined_data)\n",
    "missing = missing[missing >0]\n",
    "missing.sort_values(ascending=False, inplace=True)\n",
    "missing"
   ]
  },
  {
   "cell_type": "markdown",
   "metadata": {},
   "source": [
    "### Dropping columns with maximum NaNs"
   ]
  },
  {
   "cell_type": "code",
   "execution_count": 19,
   "metadata": {},
   "outputs": [],
   "source": [
    "combined_data.drop(['PoolQC', 'MiscFeature', 'Alley', 'Fence'], axis=1, inplace=True)"
   ]
  },
  {
   "cell_type": "code",
   "execution_count": 20,
   "metadata": {},
   "outputs": [],
   "source": [
    "for col in ('BsmtFinSF1', 'BsmtFinSF2', 'BsmtUnfSF','TotalBsmtSF', 'BsmtFullBath', 'BsmtHalfBath'):\n",
    "    combined_data[col] = combined_data[col].fillna(0)\n",
    "\n",
    "for col in ('BsmtQual', 'BsmtCond', 'BsmtExposure', 'BsmtFinType1', 'BsmtFinType2'):\n",
    "    combined_data[col] = combined_data[col].fillna('None')\n",
    "\n",
    "combined_data[\"MasVnrType\"] = combined_data[\"MasVnrType\"].fillna(\"None\")\n",
    "combined_data[\"MasVnrArea\"] = combined_data[\"MasVnrArea\"].fillna(0)\n",
    "\n",
    "combined_data['MSZoning'] = combined_data['MSZoning'].fillna(combined_data['MSZoning'].mode()[0])\n",
    "\n",
    "combined_data = combined_data.drop(['Utilities'], axis=1)\n",
    "\n",
    "combined_data[\"Functional\"] = combined_data[\"Functional\"].fillna(\"Typ\")\n",
    "\n",
    "combined_data['Electrical'] = combined_data['Electrical'].fillna(combined_data['Electrical'].mode()[0])\n",
    "\n",
    "combined_data['KitchenQual'] = combined_data['KitchenQual'].fillna(combined_data['KitchenQual'].mode()[0])\n",
    "\n",
    "combined_data['Exterior1st'] = combined_data['Exterior1st'].fillna(combined_data['Exterior1st'].mode()[0])\n",
    "\n",
    "combined_data['Exterior2nd'] = combined_data['Exterior2nd'].fillna(combined_data['Exterior2nd'].mode()[0])\n",
    "\n",
    "combined_data[\"FireplaceQu\"] = combined_data[\"FireplaceQu\"].fillna(\"None\")\n",
    "\n",
    "combined_data['SaleType'] = combined_data['SaleType'].fillna(combined_data['SaleType'].mode()[0])\n",
    "\n",
    "combined_data['MSSubClass'] = combined_data['MSSubClass'].fillna(\"None\")\n",
    "\n",
    "combined_data[\"LotFrontage\"] = combined_data.groupby(\"Neighborhood\")[\"LotFrontage\"].transform(\n",
    "    lambda x: x.fillna(x.median()))\n",
    "\n",
    "for col in ('GarageType', 'GarageFinish', 'GarageQual', 'GarageCond'):\n",
    "    combined_data[col] = combined_data[col].fillna('None')\n",
    "    \n",
    "for col in ('GarageYrBlt', 'GarageArea', 'GarageCars'):\n",
    "    combined_data[col] = combined_data[col].fillna(0)"
   ]
  },
  {
   "cell_type": "markdown",
   "metadata": {},
   "source": [
    "Taking log on the target varible to take care of the outliers and to get a better normal distribution curve"
   ]
  },
  {
   "cell_type": "code",
   "execution_count": 21,
   "metadata": {},
   "outputs": [],
   "source": [
    "combined_data['SalePrice'] = np.log1p(combined_data[\"SalePrice\"])"
   ]
  },
  {
   "cell_type": "code",
   "execution_count": 22,
   "metadata": {},
   "outputs": [
    {
     "data": {
      "text/plain": [
       "<matplotlib.axes._subplots.AxesSubplot at 0x1a1d786e10>"
      ]
     },
     "execution_count": 22,
     "metadata": {},
     "output_type": "execute_result"
    },
    {
     "data": {
      "image/png": "[encoded data removed]",
      "text/plain": [
       "<Figure size 2880x2880 with 2 Axes>"
      ]
     },
     "metadata": {
      "needs_background": "light"
     },
     "output_type": "display_data"
    }
   ],
   "source": [
    "corr = combined_data.corr()\n",
    "f, ax = plt.subplots(figsize=(40, 40))\n",
    "sns.heatmap(corr)"
   ]
  },
  {
   "cell_type": "markdown",
   "metadata": {},
   "source": [
    "Dropped columns with the least correlation"
   ]
  },
  {
   "cell_type": "code",
   "execution_count": 23,
   "metadata": {},
   "outputs": [],
   "source": [
    "combined_data.drop(['MSSubClass', 'OverallCond', 'BsmtFinSF2', 'BsmtUnfSF', 'LowQualFinSF', '2ndFlrSF', 'BsmtFullBath',\n",
    "                  'BsmtHalfBath', 'HalfBath', 'BedroomAbvGr', 'KitchenAbvGr', 'WoodDeckSF', 'OpenPorchSF', 'EnclosedPorch',\n",
    "                  '3SsnPorch', 'ScreenPorch', 'PoolArea', 'MiscVal', 'MoSold', 'YrSold'], axis=1, inplace=True)"
   ]
  },
  {
   "cell_type": "markdown",
   "metadata": {},
   "source": [
    "Plotting heatmap for columns with the most correlation"
   ]
  },
  {
   "cell_type": "code",
   "execution_count": 24,
   "metadata": {},
   "outputs": [
    {
     "data": {
      "text/plain": [
       "<matplotlib.axes._subplots.AxesSubplot at 0x1a20861b70>"
      ]
     },
     "execution_count": 24,
     "metadata": {},
     "output_type": "execute_result"
    },
    {
     "data": {
      "image/png": "[encoded data removed]",
      "text/plain": [
       "<Figure size 576x504 with 2 Axes>"
      ]
     },
     "metadata": {
      "needs_background": "light"
     },
     "output_type": "display_data"
    }
   ],
   "source": [
    "corr1 = combined_data[['SalePrice','OverallQual', 'GrLivArea', 'GarageCars', 'GarageArea']].corr()\n",
    "f, ax = plt.subplots(figsize=(8,7))\n",
    "sns.heatmap(corr1, annot=True)"
   ]
  },
  {
   "cell_type": "code",
   "execution_count": 25,
   "metadata": {},
   "outputs": [
    {
     "data": {
      "text/plain": [
       "(2919, 55)"
      ]
     },
     "execution_count": 25,
     "metadata": {},
     "output_type": "execute_result"
    }
   ],
   "source": [
    "combined_data.shape"
   ]
  },
  {
   "cell_type": "markdown",
   "metadata": {},
   "source": [
    "Distplot before taking log"
   ]
  },
  {
   "cell_type": "code",
   "execution_count": 26,
   "metadata": {},
   "outputs": [
    {
     "data": {
      "image/png": "[encoded data removed]",
      "text/plain": [
       "<Figure size 432x288 with 1 Axes>"
      ]
     },
     "metadata": {
      "needs_background": "light"
     },
     "output_type": "display_data"
    }
   ],
   "source": [
    "sns.distplot(df_train['SalePrice'])\n",
    "plt.tight_layout()\n",
    "plt.show()"
   ]
  },
  {
   "cell_type": "markdown",
   "metadata": {},
   "source": [
    "Distplot after taking log"
   ]
  },
  {
   "cell_type": "code",
   "execution_count": 27,
   "metadata": {},
   "outputs": [
    {
     "data": {
      "image/png": "[encoded data removed]",
      "text/plain": [
       "<Figure size 432x288 with 1 Axes>"
      ]
     },
     "metadata": {
      "needs_background": "light"
     },
     "output_type": "display_data"
    }
   ],
   "source": [
    "target = np.log(df_train['SalePrice'])\n",
    "sns.distplot(target)\n",
    "plt.show()"
   ]
  },
  {
   "cell_type": "code",
   "execution_count": 28,
   "metadata": {},
   "outputs": [],
   "source": [
    "labels = df_train['SalePrice']"
   ]
  },
  {
   "cell_type": "code",
   "execution_count": 29,
   "metadata": {},
   "outputs": [],
   "source": [
    "combined_data.drop('SalePrice', axis=1, inplace=True)"
   ]
  },
  {
   "cell_type": "code",
   "execution_count": 30,
   "metadata": {},
   "outputs": [
    {
     "data": {
      "text/plain": [
       "Series([], dtype: float64)"
      ]
     },
     "execution_count": 30,
     "metadata": {},
     "output_type": "execute_result"
    }
   ],
   "source": [
    "missing = combined_data.isnull().sum()/len(combined_data)\n",
    "missing = missing[missing >0]\n",
    "missing.sort_values(ascending=False, inplace=True)\n",
    "missing"
   ]
  },
  {
   "cell_type": "code",
   "execution_count": 31,
   "metadata": {},
   "outputs": [],
   "source": [
    "combined_data1 = pd.get_dummies(combined_data, drop_first=True)"
   ]
  },
  {
   "cell_type": "code",
   "execution_count": 32,
   "metadata": {},
   "outputs": [
    {
     "data": {
      "text/html": [
       "<div>\n",
       "<style scoped>\n",
       "    .dataframe tbody tr th:only-of-type {\n",
       "        vertical-align: middle;\n",
       "    }\n",
       "\n",
       "    .dataframe tbody tr th {\n",
       "        vertical-align: top;\n",
       "    }\n",
       "\n",
       "    .dataframe thead th {\n",
       "        text-align: right;\n",
       "    }\n",
       "</style>\n",
       "<table border=\"1\" class=\"dataframe\">\n",
       "  <thead>\n",
       "    <tr style=\"text-align: right;\">\n",
       "      <th></th>\n",
       "      <th></th>\n",
       "      <th>LotFrontage</th>\n",
       "      <th>LotArea</th>\n",
       "      <th>OverallQual</th>\n",
       "      <th>YearBuilt</th>\n",
       "      <th>YearRemodAdd</th>\n",
       "      <th>MasVnrArea</th>\n",
       "      <th>BsmtFinSF1</th>\n",
       "      <th>TotalBsmtSF</th>\n",
       "      <th>1stFlrSF</th>\n",
       "      <th>GrLivArea</th>\n",
       "      <th>...</th>\n",
       "      <th>SaleType_ConLI</th>\n",
       "      <th>SaleType_ConLw</th>\n",
       "      <th>SaleType_New</th>\n",
       "      <th>SaleType_Oth</th>\n",
       "      <th>SaleType_WD</th>\n",
       "      <th>SaleCondition_AdjLand</th>\n",
       "      <th>SaleCondition_Alloca</th>\n",
       "      <th>SaleCondition_Family</th>\n",
       "      <th>SaleCondition_Normal</th>\n",
       "      <th>SaleCondition_Partial</th>\n",
       "    </tr>\n",
       "  </thead>\n",
       "  <tbody>\n",
       "    <tr>\n",
       "      <th rowspan=\"5\" valign=\"top\">df_train</th>\n",
       "      <th>0</th>\n",
       "      <td>65.0</td>\n",
       "      <td>8450</td>\n",
       "      <td>7</td>\n",
       "      <td>2003</td>\n",
       "      <td>2003</td>\n",
       "      <td>196.0</td>\n",
       "      <td>706.0</td>\n",
       "      <td>856.0</td>\n",
       "      <td>856</td>\n",
       "      <td>1710</td>\n",
       "      <td>...</td>\n",
       "      <td>0</td>\n",
       "      <td>0</td>\n",
       "      <td>0</td>\n",
       "      <td>0</td>\n",
       "      <td>1</td>\n",
       "      <td>0</td>\n",
       "      <td>0</td>\n",
       "      <td>0</td>\n",
       "      <td>1</td>\n",
       "      <td>0</td>\n",
       "    </tr>\n",
       "    <tr>\n",
       "      <th>1</th>\n",
       "      <td>80.0</td>\n",
       "      <td>9600</td>\n",
       "      <td>6</td>\n",
       "      <td>1976</td>\n",
       "      <td>1976</td>\n",
       "      <td>0.0</td>\n",
       "      <td>978.0</td>\n",
       "      <td>1262.0</td>\n",
       "      <td>1262</td>\n",
       "      <td>1262</td>\n",
       "      <td>...</td>\n",
       "      <td>0</td>\n",
       "      <td>0</td>\n",
       "      <td>0</td>\n",
       "      <td>0</td>\n",
       "      <td>1</td>\n",
       "      <td>0</td>\n",
       "      <td>0</td>\n",
       "      <td>0</td>\n",
       "      <td>1</td>\n",
       "      <td>0</td>\n",
       "    </tr>\n",
       "    <tr>\n",
       "      <th>2</th>\n",
       "      <td>68.0</td>\n",
       "      <td>11250</td>\n",
       "      <td>7</td>\n",
       "      <td>2001</td>\n",
       "      <td>2002</td>\n",
       "      <td>162.0</td>\n",
       "      <td>486.0</td>\n",
       "      <td>920.0</td>\n",
       "      <td>920</td>\n",
       "      <td>1786</td>\n",
       "      <td>...</td>\n",
       "      <td>0</td>\n",
       "      <td>0</td>\n",
       "      <td>0</td>\n",
       "      <td>0</td>\n",
       "      <td>1</td>\n",
       "      <td>0</td>\n",
       "      <td>0</td>\n",
       "      <td>0</td>\n",
       "      <td>1</td>\n",
       "      <td>0</td>\n",
       "    </tr>\n",
       "    <tr>\n",
       "      <th>3</th>\n",
       "      <td>60.0</td>\n",
       "      <td>9550</td>\n",
       "      <td>7</td>\n",
       "      <td>1915</td>\n",
       "      <td>1970</td>\n",
       "      <td>0.0</td>\n",
       "      <td>216.0</td>\n",
       "      <td>756.0</td>\n",
       "      <td>961</td>\n",
       "      <td>1717</td>\n",
       "      <td>...</td>\n",
       "      <td>0</td>\n",
       "      <td>0</td>\n",
       "      <td>0</td>\n",
       "      <td>0</td>\n",
       "      <td>1</td>\n",
       "      <td>0</td>\n",
       "      <td>0</td>\n",
       "      <td>0</td>\n",
       "      <td>0</td>\n",
       "      <td>0</td>\n",
       "    </tr>\n",
       "    <tr>\n",
       "      <th>4</th>\n",
       "      <td>84.0</td>\n",
       "      <td>14260</td>\n",
       "      <td>8</td>\n",
       "      <td>2000</td>\n",
       "      <td>2000</td>\n",
       "      <td>350.0</td>\n",
       "      <td>655.0</td>\n",
       "      <td>1145.0</td>\n",
       "      <td>1145</td>\n",
       "      <td>2198</td>\n",
       "      <td>...</td>\n",
       "      <td>0</td>\n",
       "      <td>0</td>\n",
       "      <td>0</td>\n",
       "      <td>0</td>\n",
       "      <td>1</td>\n",
       "      <td>0</td>\n",
       "      <td>0</td>\n",
       "      <td>0</td>\n",
       "      <td>1</td>\n",
       "      <td>0</td>\n",
       "    </tr>\n",
       "  </tbody>\n",
       "</table>\n",
       "<p>5 rows × 225 columns</p>\n",
       "</div>"
      ],
      "text/plain": [
       "            LotFrontage  LotArea  OverallQual  YearBuilt  YearRemodAdd  \\\n",
       "df_train 0         65.0     8450            7       2003          2003   \n",
       "         1         80.0     9600            6       1976          1976   \n",
       "         2         68.0    11250            7       2001          2002   \n",
       "         3         60.0     9550            7       1915          1970   \n",
       "         4         84.0    14260            8       2000          2000   \n",
       "\n",
       "            MasVnrArea  BsmtFinSF1  TotalBsmtSF  1stFlrSF  GrLivArea  \\\n",
       "df_train 0       196.0       706.0        856.0       856       1710   \n",
       "         1         0.0       978.0       1262.0      1262       1262   \n",
       "         2       162.0       486.0        920.0       920       1786   \n",
       "         3         0.0       216.0        756.0       961       1717   \n",
       "         4       350.0       655.0       1145.0      1145       2198   \n",
       "\n",
       "                    ...            SaleType_ConLI  SaleType_ConLw  \\\n",
       "df_train 0          ...                         0               0   \n",
       "         1          ...                         0               0   \n",
       "         2          ...                         0               0   \n",
       "         3          ...                         0               0   \n",
       "         4          ...                         0               0   \n",
       "\n",
       "            SaleType_New  SaleType_Oth  SaleType_WD  SaleCondition_AdjLand  \\\n",
       "df_train 0             0             0            1                      0   \n",
       "         1             0             0            1                      0   \n",
       "         2             0             0            1                      0   \n",
       "         3             0             0            1                      0   \n",
       "         4             0             0            1                      0   \n",
       "\n",
       "            SaleCondition_Alloca  SaleCondition_Family  SaleCondition_Normal  \\\n",
       "df_train 0                     0                     0                     1   \n",
       "         1                     0                     0                     1   \n",
       "         2                     0                     0                     1   \n",
       "         3                     0                     0                     0   \n",
       "         4                     0                     0                     1   \n",
       "\n",
       "            SaleCondition_Partial  \n",
       "df_train 0                      0  \n",
       "         1                      0  \n",
       "         2                      0  \n",
       "         3                      0  \n",
       "         4                      0  \n",
       "\n",
       "[5 rows x 225 columns]"
      ]
     },
     "execution_count": 32,
     "metadata": {},
     "output_type": "execute_result"
    }
   ],
   "source": [
    "combined_data1.head(5)"
   ]
  },
  {
   "cell_type": "code",
   "execution_count": 33,
   "metadata": {},
   "outputs": [
    {
     "data": {
      "text/plain": [
       "(2919, 225)"
      ]
     },
     "execution_count": 33,
     "metadata": {},
     "output_type": "execute_result"
    }
   ],
   "source": [
    "combined_data1.shape"
   ]
  },
  {
   "cell_type": "code",
   "execution_count": 34,
   "metadata": {},
   "outputs": [],
   "source": [
    "train = combined_data1.loc['df_train']"
   ]
  },
  {
   "cell_type": "code",
   "execution_count": 35,
   "metadata": {},
   "outputs": [],
   "source": [
    "test = combined_data1.loc['df_test']"
   ]
  },
  {
   "cell_type": "code",
   "execution_count": 36,
   "metadata": {},
   "outputs": [],
   "source": [
    "X = train.loc[:, :]\n",
    "y = np.log(labels)"
   ]
  },
  {
   "cell_type": "code",
   "execution_count": 37,
   "metadata": {},
   "outputs": [],
   "source": [
    "from sklearn.model_selection import train_test_split\n",
    "X_train, X_test, y_train, y_test = train_test_split(X, y, random_state=42, test_size=0.2)"
   ]
  },
  {
   "cell_type": "markdown",
   "metadata": {},
   "source": [
    "### GRADIENT BOOST REGRESSOR"
   ]
  },
  {
   "cell_type": "code",
   "execution_count": 38,
   "metadata": {},
   "outputs": [],
   "source": [
    "from sklearn.ensemble import GradientBoostingRegressor"
   ]
  },
  {
   "cell_type": "code",
   "execution_count": 80,
   "metadata": {},
   "outputs": [],
   "source": [
    "gbm = GradientBoostingRegressor(learning_rate=0.08, n_estimators=1000,alpha=0.15, max_depth=4, min_samples_leaf=10)\n",
    "gbm.fit(X_train,y_train)\n",
    "predsTest = gbm.predict(X= X_test)"
   ]
  },
  {
   "cell_type": "code",
   "execution_count": 89,
   "metadata": {},
   "outputs": [],
   "source": [
    "from sklearn.metrics import mean_squared_log_error,mean_squared_error, r2_score,mean_absolute_error\n",
    "def rmsle_scorer(pred, test):\n",
    "    rmsle = np.sqrt(mean_squared_log_error(pred,test))\n",
    "    return rmsle"
   ]
  },
  {
   "cell_type": "code",
   "execution_count": 91,
   "metadata": {},
   "outputs": [
    {
     "data": {
      "text/plain": [
       "0.0109177653784399"
      ]
     },
     "execution_count": 91,
     "metadata": {},
     "output_type": "execute_result"
    }
   ],
   "source": [
    "rmsle_scorer(predsTest, y_test)"
   ]
  },
  {
   "cell_type": "markdown",
   "metadata": {},
   "source": [
    "### XGBOOST REGRESSOR"
   ]
  },
  {
   "cell_type": "code",
   "execution_count": 84,
   "metadata": {},
   "outputs": [
    {
     "data": {
      "text/plain": [
       "XGBRegressor(base_score=0.5, booster='gbtree', colsample_bylevel=1,\n",
       "       colsample_bytree=1, gamma=0, importance_type='gain',\n",
       "       learning_rate=0.05, max_delta_step=0, max_depth=10,\n",
       "       min_child_weight=1, missing=None, n_estimators=1000, n_jobs=1,\n",
       "       n_thread=-1, nthread=None, objective='reg:linear', random_state=42,\n",
       "       reg_alpha=0, reg_lambda=1, scale_pos_weight=1, seed=None,\n",
       "       silent=True, subsample=1)"
      ]
     },
     "execution_count": 84,
     "metadata": {},
     "output_type": "execute_result"
    }
   ],
   "source": [
    "from xgboost import XGBRegressor\n",
    "from sklearn.preprocessing import StandardScaler\n",
    "standardscaler = StandardScaler()\n",
    "model = XGBRegressor(n_thread=-1, colsample_bytree=1, learning_rate=0.05, n_estimators=1000, max_depth=10, min_child_weight=1, subsample=1, random_state=42)\n",
    "model.fit(X_train, y_train)"
   ]
  },
  {
   "cell_type": "code",
   "execution_count": 85,
   "metadata": {},
   "outputs": [],
   "source": [
    "y_pred=model.predict(X_test)"
   ]
  },
  {
   "cell_type": "code",
   "execution_count": 92,
   "metadata": {},
   "outputs": [
    {
     "data": {
      "text/plain": [
       "0.012135409947049139"
      ]
     },
     "execution_count": 92,
     "metadata": {},
     "output_type": "execute_result"
    }
   ],
   "source": [
    "rmsle_scorer(y_pred, y_test)"
   ]
  },
  {
   "cell_type": "markdown",
   "metadata": {},
   "source": [
    "## CONCLUSION\n",
    "\n",
    "Thus, I have beaten the bot and gotten an rmsle of 0.0109 using Gradient Boost Regressor compared to an rmsle of 0.13 generated by H2O for it's best model. I chose the hyperparameters generated by H2O of the best model and after performing data cleaning and Feature Engineering on the data trained the model using these hyperparameters.\n",
    "\n",
    "The bot failed to give an rmsle this low, because H2O can give better results if ran for a longer runtime. If H2O ran for more than 1000 secs it might be able to give better results than this.\n",
    "\n",
    "Therefore, it's important to note that because of the arbitrary 1000 secs cut off, H2O didn't perform that well, but with enough running time the AutoML tool can pull ahead of manually computed values of RMSLE."
   ]
  },
  {
   "cell_type": "markdown",
   "metadata": {},
   "source": [
    "## CONTRIBUTIONS\n",
    "\n",
    "Personal Contribution : 60%\n",
    "\n",
    "External Source : 40%"
   ]
  },
  {
   "cell_type": "markdown",
   "metadata": {},
   "source": [
    "## CITATIONS\n",
    "\n",
    "1. Article title:\tHouse Prices: Advanced Regression Techniques | Kaggle\n",
    "\n",
    "   Website title:\tKaggle.com\n",
    "   \n",
    "   URL          :\thttps://www.kaggle.com/c/house-prices-advanced-regression-techniques/data\n",
    "   \n",
    "   \n",
    "2. Article title:\tComprehensive data exploration with Python | Kaggle\n",
    "\n",
    "   Website title:\tKaggle.com\n",
    "   \n",
    "   URL:\thttps://www.kaggle.com/pmarcelino/comprehensive-data-exploration-with-python\n",
    "   \n",
    "   \n",
    "3. Article title:\tnikbearbrown/CSYE_7245\n",
    "\n",
    "   Website title:\tGitHub\n",
    "   \n",
    "   URL          :\thttps://github.com/nikbearbrown/CSYE_7245/blob/master/H2O/H2O_automl_lending_club.ipynb"
   ]
  },
  {
   "cell_type": "markdown",
   "metadata": {},
   "source": [
    "## LICENSE\n",
    "\n",
    "Copyright 2019 APURVA PRAVIN SALVI\n",
    "\n",
    "Permission is hereby granted, free of charge, to any person obtaining a copy of this software and associated documentation files (the \"Software\"), to deal in the Software without restriction, including without limitation the rights to use, copy, modify, merge, publish, distribute, sublicense, and/or sell copies of the Software, and to permit persons to whom the Software is furnished to do so, subject to the following conditions:\n",
    "\n",
    "The above copyright notice and this permission notice shall be included in all copies or substantial portions of the Software.\n",
    "\n",
    "THE SOFTWARE IS PROVIDED \"AS IS\", WITHOUT WARRANTY OF ANY KIND, EXPRESS OR IMPLIED, INCLUDING BUT NOT LIMITED TO THE WARRANTIES OF MERCHANTABILITY, FITNESS FOR A PARTICULAR PURPOSE AND NONINFRINGEMENT. IN NO EVENT SHALL THE AUTHORS OR COPYRIGHT HOLDERS BE LIABLE FOR ANY CLAIM, DAMAGES OR OTHER LIABILITY, WHETHER IN AN ACTION OF CONTRACT, TORT OR OTHERWISE, ARISING FROM, OUT OF OR IN CONNECTION WITH THE SOFTWARE OR THE USE OR OTHER DEALINGS IN THE SOFTWARE."
   ]
  }
 ],
 "metadata": {
  "kernelspec": {
   "display_name": "Python 3",
   "language": "python",
   "name": "python3"
  },
  "language_info": {
   "codemirror_mode": {
    "name": "ipython",
    "version": 3
   },
   "file_extension": ".py",
   "mimetype": "text/x-python",
   "name": "python",
   "nbconvert_exporter": "python",
   "pygments_lexer": "ipython3",
   "version": "3.7.1"
  }
 },
 "nbformat": 4,
 "nbformat_minor": 2
}
